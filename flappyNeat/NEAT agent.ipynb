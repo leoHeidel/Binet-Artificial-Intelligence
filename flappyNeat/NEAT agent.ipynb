{
 "cells": [
  {
   "cell_type": "code",
   "execution_count": null,
   "metadata": {},
   "outputs": [],
   "source": [
    "import neat\n",
    "import threading\n",
    "import flappy_multi\n",
    "import numpy as np\n",
    "import time"
   ]
  },
  {
   "cell_type": "code",
   "execution_count": null,
   "metadata": {},
   "outputs": [],
   "source": [
    "class Agent :\n",
    "    \"\"\"Classe représentant un oiseau utilisant un réseau de neurone\"\"\"\n",
    "    s = 1\n",
    "    def __init__(self, genome, config) :\n",
    "        \"\"\"Construit le réseau de neurone à partir du genome\"\"\"\n",
    "        self.net = neat.nn.FeedForwardNetwork.create(genome, config)\n",
    "\n",
    "    def shouldJump(self, v) :\n",
    "        \"\"\"A partir d'un vecteur réprésentant : \n",
    "        v[0] : la hauteur du prochai tuyau\n",
    "        v[1] : la hauteur de l'oiseau\n",
    "        v[2] : la distance au tuyau\"\"\"\n",
    "        self.s += 1\n",
    "        self.s -= min(1,(abs(v[0] - v[1])/70)**0.5)\n",
    "        \n",
    "        v = np.array(v)*np.array([0.008,0.008, 0.02])\n",
    "        input = (v[0], v[1], v[2])\n",
    "        output = self.net.activate(input)\n",
    "        return output[0] > 0.5\n",
    "    \n",
    "    def passedPip(self) :\n",
    "        \"\"\"Si l'oiseau passe un tuyau\"\"\"\n",
    "        self.s += 100\n",
    "    \n",
    "    def score(self) :\n",
    "        return self.s"
   ]
  },
  {
   "cell_type": "code",
   "execution_count": null,
   "metadata": {},
   "outputs": [],
   "source": [
    "import random\n",
    "class randomAgent() :\n",
    "    \"\"\"Agent aléatoir permettant d'avoir 10 agents dans une simulation s'il manque des agents NEAT\"\"\"\n",
    "    s = 11\n",
    "    def shouldJump(self, v) :\n",
    "        return random.random() < 0.1\n",
    "    def passedPip(self) :\n",
    "        self.s += 100"
   ]
  },
  {
   "cell_type": "code",
   "execution_count": null,
   "metadata": {},
   "outputs": [],
   "source": [
    "generation = []\n",
    "lockCalculationDone = threading.Lock()\n",
    "lockGenerationReady = threading.Lock()\n",
    "lockGenerationReady.acquire()\n",
    "lockCalculationDone.acquire()"
   ]
  },
  {
   "cell_type": "code",
   "execution_count": null,
   "metadata": {},
   "outputs": [],
   "source": [
    "currentAgent = 0\n",
    "genCount = 0\n",
    "fitnessCalculated = False\n",
    "def nextAgent():\n",
    "    \"\"\"Fonction appelée par flappyBird pour avoir un nouvel agent\"\"\"\n",
    "    global currentAgent\n",
    "    if currentAgent == 70 :\n",
    "        global genCount\n",
    "        genCount += 1\n",
    "        print(\"Generation \" + str(genCount))\n",
    "        currentAgent = 0\n",
    "        lockCalculationDone.release()\n",
    "    if currentAgent == 0 :\n",
    "        lockGenerationReady.acquire()\n",
    "    #On complète avec des agents aléatoirs si besoin \n",
    "    if currentAgent >= len(generation) :\n",
    "        currentAgent += 1\n",
    "        return randomAgent()\n",
    "    agent = generation[currentAgent]\n",
    "    currentAgent += 1\n",
    "\n",
    "    return agent"
   ]
  },
  {
   "cell_type": "code",
   "execution_count": null,
   "metadata": {},
   "outputs": [],
   "source": [
    "def eval_genomes(genomes, config):\n",
    "    \"\"\"Fonction appelée par le module NEAT pour tester une génération de génome\"\"\"\n",
    "    generation.clear()\n",
    "    for genome_id, genome in genomes:\n",
    "        generation.append(Agent(genome,config))\n",
    "    lockGenerationReady.release()\n",
    "    lockCalculationDone.acquire()\n",
    "    \n",
    "    for i,g in enumerate(genomes) :\n",
    "        genome_id, genome = g\n",
    "        genome.fitness = generation[i].score()"
   ]
  },
  {
   "cell_type": "code",
   "execution_count": null,
   "metadata": {},
   "outputs": [],
   "source": [
    "def neatAlgo():\n",
    "    winner = p.run(eval_genomes, 50)"
   ]
  },
  {
   "cell_type": "code",
   "execution_count": null,
   "metadata": {},
   "outputs": [],
   "source": [
    "#Charge la config\n",
    "config = neat.Config(neat.DefaultGenome, neat.DefaultReproduction, neat.DefaultSpeciesSet, neat.DefaultStagnation, \"config\")"
   ]
  },
  {
   "cell_type": "code",
   "execution_count": null,
   "metadata": {},
   "outputs": [],
   "source": [
    "p = neat.Population(config)"
   ]
  },
  {
   "cell_type": "code",
   "execution_count": null,
   "metadata": {},
   "outputs": [],
   "source": [
    "threading.Thread(target=neatAlgo).start()"
   ]
  },
  {
   "cell_type": "code",
   "execution_count": null,
   "metadata": {},
   "outputs": [],
   "source": [
    "flappy_multi.main(nextAgent)"
   ]
  },
  {
   "cell_type": "code",
   "execution_count": null,
   "metadata": {},
   "outputs": [],
   "source": []
  },
  {
   "cell_type": "code",
   "execution_count": null,
   "metadata": {},
   "outputs": [],
   "source": []
  },
  {
   "cell_type": "code",
   "execution_count": null,
   "metadata": {},
   "outputs": [],
   "source": []
  }
 ],
 "metadata": {
  "kernelspec": {
   "display_name": "Python 3",
   "language": "python",
   "name": "python3"
  },
  "language_info": {
   "codemirror_mode": {
    "name": "ipython",
    "version": 3
   },
   "file_extension": ".py",
   "mimetype": "text/x-python",
   "name": "python",
   "nbconvert_exporter": "python",
   "pygments_lexer": "ipython3",
   "version": "3.6.5"
  }
 },
 "nbformat": 4,
 "nbformat_minor": 2
}
